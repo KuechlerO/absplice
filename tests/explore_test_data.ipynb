{
 "cells": [
  {
   "cell_type": "code",
   "execution_count": 1,
   "metadata": {},
   "outputs": [],
   "source": [
    "import os\n",
    "import pandas as pd\n",
    "from count_table import CountTable"
   ]
  },
  {
   "cell_type": "code",
   "execution_count": 2,
   "metadata": {},
   "outputs": [],
   "source": [
    "vcf_file = 'tests/data/test.vcf.gz'\n",
    "multi_vcf_file = 'tests/data/multi_test.vcf.gz'\n",
    "fasta_file = 'tests/data/hg19.nochr.chr17.fa'\n",
    "ref_table5_kn_testis = 'tests/data/test_testis_ref_table5_kn.csv'\n",
    "ref_table3_kn_testis = 'tests/data/test_testis_ref_table3_kn.csv'\n",
    "ref_table5_kn_lung = 'tests/data/test_lung_ref_table5_kn.csv'\n",
    "ref_table3_kn_lung = 'tests/data/test_lung_ref_table3_kn.csv'\n",
    "combined_ref_tables5_testis_lung = 'tests/data/test_combined_ref_tables5_testis_lung_kn.csv'\n",
    "combined_ref_tables3_testis_lung = 'tests/data/test_combined_ref_tables3_testis_lung_kn.csv'\n",
    "count_cat_file_lymphocytes = 'tests/data/test_count_table_cat_chrom17_lymphocytes.csv'\n",
    "count_cat_file_blood = 'tests/data/test_count_table_cat_chrom17_blood.csv'"
   ]
  },
  {
   "cell_type": "code",
   "execution_count": 3,
   "metadata": {},
   "outputs": [],
   "source": [
    "root_dir = '/home/wagnern/Projects/splicing-outlier-prediction/'"
   ]
  },
  {
   "cell_type": "code",
   "execution_count": 4,
   "metadata": {},
   "outputs": [],
   "source": [
    "ct_cat_lympho = CountTable.read_csv(root_dir + count_cat_file_lymphocytes)\n",
    "ct_cat_blood = CountTable.read_csv(root_dir + count_cat_file_blood)\n",
    "df_comb5 = pd.read_csv(root_dir + combined_ref_tables5_testis_lung)\n",
    "df_comb3 = pd.read_csv(root_dir + combined_ref_tables3_testis_lung)\n",
    "df_testis5 = pd.read_csv(root_dir + ref_table5_kn_testis)\n",
    "df_testis3 = pd.read_csv(root_dir + ref_table3_kn_testis)\n",
    "df_lung5 = pd.read_csv(root_dir + ref_table5_kn_lung)\n",
    "df_lung3 = pd.read_csv(root_dir + ref_table3_kn_lung)"
   ]
  },
  {
   "cell_type": "code",
   "execution_count": 5,
   "metadata": {},
   "outputs": [
    {
     "data": {
      "text/plain": [
       "22"
      ]
     },
     "execution_count": 5,
     "metadata": {},
     "output_type": "execute_result"
    }
   ],
   "source": [
    "len(set(df_testis5.junctions).intersection(set(ct_cat_lympho.junctions)))"
   ]
  },
  {
   "cell_type": "code",
   "execution_count": 6,
   "metadata": {},
   "outputs": [
    {
     "data": {
      "text/plain": [
       "34"
      ]
     },
     "execution_count": 6,
     "metadata": {},
     "output_type": "execute_result"
    }
   ],
   "source": [
    "len(set(df_comb5.junctions).intersection(set(ct_cat_blood.junctions)).intersection(set(ct_cat_lympho.junctions)))"
   ]
  },
  {
   "cell_type": "code",
   "execution_count": 7,
   "metadata": {},
   "outputs": [
    {
     "data": {
      "text/plain": [
       "40"
      ]
     },
     "execution_count": 7,
     "metadata": {},
     "output_type": "execute_result"
    }
   ],
   "source": [
    "len(set(df_comb3.junctions).intersection(set(ct_cat_blood.junctions)).intersection(set(ct_cat_lympho.junctions)))"
   ]
  },
  {
   "cell_type": "code",
   "execution_count": 9,
   "metadata": {},
   "outputs": [
    {
     "data": {
      "text/plain": [
       "35"
      ]
     },
     "execution_count": 9,
     "metadata": {},
     "output_type": "execute_result"
    }
   ],
   "source": [
    "len(set(df_comb5.junctions).intersection(set(ct_cat_lympho.junctions)))"
   ]
  },
  {
   "cell_type": "code",
   "execution_count": 11,
   "metadata": {},
   "outputs": [
    {
     "data": {
      "text/plain": [
       "{'17:41201917-41203079:-'}"
      ]
     },
     "execution_count": 11,
     "metadata": {},
     "output_type": "execute_result"
    }
   ],
   "source": [
    "set(df_comb5.junctions).intersection(set(ct_cat_lympho.junctions)).difference(set(ct_cat_blood.junctions))"
   ]
  },
  {
   "cell_type": "code",
   "execution_count": null,
   "metadata": {},
   "outputs": [],
   "source": [
    "set(df_comb5.junctions).intersection(set(ct_cat_lympho.junctions)).difference(set(ct_cat_blood.junctions))"
   ]
  }
 ],
 "metadata": {
  "kernelspec": {
   "display_name": "Python (hylfm)",
   "language": "python",
   "name": "hylfm"
  },
  "language_info": {
   "codemirror_mode": {
    "name": "ipython",
    "version": 3
   },
   "file_extension": ".py",
   "mimetype": "text/x-python",
   "name": "python",
   "nbconvert_exporter": "python",
   "pygments_lexer": "ipython3",
   "version": "3.7.9"
  }
 },
 "nbformat": 4,
 "nbformat_minor": 2
}
